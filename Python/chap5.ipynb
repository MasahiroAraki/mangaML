{
  "nbformat": 4,
  "nbformat_minor": 0,
  "metadata": {
    "colab": {
      "provenance": []
    },
    "kernelspec": {
      "name": "python3",
      "display_name": "Python 3"
    },
    "language_info": {
      "name": "python"
    }
  },
  "cells": [
    {
      "cell_type": "markdown",
      "source": [
        "<a href=\"https://colab.research.google.com/github/MasahiroAraki/mangaML/blob/master/Python/chap5.ipynb\" target=\"_parent\"><img src=\"https://colab.research.google.com/assets/colab-badge.svg\" alt=\"Open In Colab\"/></a>"
      ],
      "metadata": {
        "id": "yCsRtm3G5vZv"
      }
    },
    {
      "cell_type": "markdown",
      "source": [
        "# 5章 アンサンブル学習"
      ],
      "metadata": {
        "id": "O-CPjGfysp6o"
      }
    },
    {
      "cell_type": "markdown",
      "source": [
        "<a href=\"https://www.docswell.com/s/MasahiroAraki/Z247L1-2023-08-15-094711\">スライド 5章</a>\n"
      ],
      "metadata": {
        "id": "S8FhGNTVtL1W"
      }
    },
    {
      "cell_type": "markdown",
      "source": [
        "ここでは適当な難しさの識別問題用データとして、機械学習ツール Weka に附属の diabetes データセットを使います。"
      ],
      "metadata": {
        "id": "I5F7LoRZtZ0Z"
      }
    },
    {
      "cell_type": "code",
      "source": [
        "!wget https://raw.githubusercontent.com/renatopp/arff-datasets/master/classification/diabetes.arff"
      ],
      "metadata": {
        "colab": {
          "base_uri": "https://localhost:8080/"
        },
        "id": "3ze2FlQjEd-h",
        "outputId": "9f061db8-bbdb-407a-feba-d5f490787a0a"
      },
      "execution_count": 1,
      "outputs": [
        {
          "output_type": "stream",
          "name": "stdout",
          "text": [
            "--2023-08-15 02:43:35--  https://raw.githubusercontent.com/renatopp/arff-datasets/master/classification/diabetes.arff\n",
            "Resolving raw.githubusercontent.com (raw.githubusercontent.com)... 185.199.108.133, 185.199.109.133, 185.199.110.133, ...\n",
            "Connecting to raw.githubusercontent.com (raw.githubusercontent.com)|185.199.108.133|:443... connected.\n",
            "HTTP request sent, awaiting response... 200 OK\n",
            "Length: 38282 (37K) [text/plain]\n",
            "Saving to: ‘diabetes.arff’\n",
            "\n",
            "\rdiabetes.arff         0%[                    ]       0  --.-KB/s               \rdiabetes.arff       100%[===================>]  37.38K  --.-KB/s    in 0.002s  \n",
            "\n",
            "2023-08-15 02:43:36 (15.1 MB/s) - ‘diabetes.arff’ saved [38282/38282]\n",
            "\n"
          ]
        }
      ]
    },
    {
      "cell_type": "code",
      "source": [
        "import numpy as np\n",
        "from scipy.io import arff\n",
        "from sklearn.ensemble import BaggingClassifier, RandomForestClassifier, AdaBoostClassifier, GradientBoostingClassifier\n",
        "from sklearn.model_selection import cross_val_score\n",
        "\n",
        "data, meta = arff.loadarff('diabetes.arff')\n",
        "X = np.empty((0,8), np.float64)\n",
        "y = np.empty((0,1), np.str_)\n",
        "for e in data:\n",
        "    e2 = list(e)\n",
        "    X = np.append(X, [e2[0:8]], axis=0)\n",
        "    y = np.append(y, e2[8:9])"
      ],
      "metadata": {
        "id": "02GtV1Qs6gm9"
      },
      "execution_count": 3,
      "outputs": []
    },
    {
      "cell_type": "markdown",
      "source": [
        "バギング"
      ],
      "metadata": {
        "id": "PsLRT9T-7GH7"
      }
    },
    {
      "cell_type": "code",
      "source": [
        "clf1 = BaggingClassifier()\n",
        "scores = cross_val_score(clf1, X, y, cv=10)\n",
        "print(\"{0:4.2f} +/- {1:4.2f} %\".format(scores.mean() * 100, scores.std() * 100))"
      ],
      "metadata": {
        "colab": {
          "base_uri": "https://localhost:8080/"
        },
        "id": "WAg2ZsYRFQ0Y",
        "outputId": "29d81fd0-2372-447c-9671-35abaae40911"
      },
      "execution_count": 5,
      "outputs": [
        {
          "output_type": "stream",
          "name": "stdout",
          "text": [
            "73.43 +/- 5.02 %\n"
          ]
        }
      ]
    },
    {
      "cell_type": "markdown",
      "source": [
        "ランダムフォレスト"
      ],
      "metadata": {
        "id": "mneH9nLcFYsl"
      }
    },
    {
      "cell_type": "code",
      "source": [
        "clf2 = RandomForestClassifier()\n",
        "scores = cross_val_score(clf2, X, y, cv=10)\n",
        "print(\"{0:4.2f} +/- {1:4.2f} %\".format(scores.mean() * 100, scores.std() * 100))"
      ],
      "metadata": {
        "colab": {
          "base_uri": "https://localhost:8080/"
        },
        "id": "68DPKLNFFY3D",
        "outputId": "3ca51837-b2e6-4493-cdab-847d53fa1330"
      },
      "execution_count": 6,
      "outputs": [
        {
          "output_type": "stream",
          "name": "stdout",
          "text": [
            "75.65 +/- 4.97 %\n"
          ]
        }
      ]
    },
    {
      "cell_type": "markdown",
      "source": [
        "AdaBoost"
      ],
      "metadata": {
        "id": "74LgMcKUFY-c"
      }
    },
    {
      "cell_type": "code",
      "source": [
        "clf3 = AdaBoostClassifier()\n",
        "scores = cross_val_score(clf3, X, y, cv=10)\n",
        "print(\"{0:4.2f} +/- {1:4.2f} %\".format(scores.mean() * 100, scores.std() * 100))"
      ],
      "metadata": {
        "colab": {
          "base_uri": "https://localhost:8080/"
        },
        "id": "_v_x-98bFZFe",
        "outputId": "beb02e59-2a76-4121-a3a3-f963074a2169"
      },
      "execution_count": 7,
      "outputs": [
        {
          "output_type": "stream",
          "name": "stdout",
          "text": [
            "75.52 +/- 5.71 %\n"
          ]
        }
      ]
    },
    {
      "cell_type": "markdown",
      "source": [
        "勾配ブースティング"
      ],
      "metadata": {
        "id": "oE3GcyyNFZOI"
      }
    },
    {
      "cell_type": "code",
      "source": [
        "clf4 = GradientBoostingClassifier()\n",
        "scores = cross_val_score(clf4, X, y, cv=10)\n",
        "print(\"{0:4.2f} +/- {1:4.2f} %\".format(scores.mean() * 100, scores.std() * 100))"
      ],
      "metadata": {
        "colab": {
          "base_uri": "https://localhost:8080/"
        },
        "id": "bsN3ppYHFZVS",
        "outputId": "7962bb86-4a5a-4df2-9178-f612714aa7f8"
      },
      "execution_count": 8,
      "outputs": [
        {
          "output_type": "stream",
          "name": "stdout",
          "text": [
            "76.17 +/- 4.94 %\n"
          ]
        }
      ]
    }
  ]
}