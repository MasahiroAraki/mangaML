{
  "nbformat": 4,
  "nbformat_minor": 0,
  "metadata": {
    "colab": {
      "provenance": []
    },
    "kernelspec": {
      "name": "python3",
      "display_name": "Python 3"
    },
    "language_info": {
      "name": "python"
    }
  },
  "cells": [
    {
      "cell_type": "markdown",
      "source": [
        "# 1章 回帰ってどうやるの？\n",
        "\n"
      ],
      "metadata": {
        "id": "O-CPjGfysp6o"
      }
    },
    {
      "cell_type": "markdown",
      "source": [
        "<a href=\"https://www.docswell.com/s/MasahiroAraki/Z98N1V-2023-08-14-151405\">スライド 1章</a>\n"
      ],
      "metadata": {
        "id": "S8FhGNTVtL1W"
      }
    },
    {
      "cell_type": "markdown",
      "source": [
        "回帰のデータセットとして本書で使用している Boston housing prices dataset は倫理的な問題があるので、scikit-learn ver 1.2 以降では削除されています。従ってここでは、新しく使用が推奨されている California housing dataset を用います。なお、Boston housing prices dataset を使ったコードは付録として、この notebook の末尾に掲載します。"
      ],
      "metadata": {
        "id": "I5F7LoRZtZ0Z"
      }
    },
    {
      "cell_type": "code",
      "source": [
        "from sklearn.datasets import fetch_california_housing\n",
        "from sklearn.linear_model import LinearRegression, Ridge, Lasso\n",
        "\n",
        "housing = fetch_california_housing()\n",
        "print(housing.DESCR)"
      ],
      "metadata": {
        "colab": {
          "base_uri": "https://localhost:8080/"
        },
        "id": "eYDuTyYYuoY-",
        "outputId": "fc8ffec3-44cc-40ed-daa9-6fe5f4660b27"
      },
      "execution_count": 6,
      "outputs": [
        {
          "output_type": "stream",
          "name": "stdout",
          "text": [
            ".. _california_housing_dataset:\n",
            "\n",
            "California Housing dataset\n",
            "--------------------------\n",
            "\n",
            "**Data Set Characteristics:**\n",
            "\n",
            "    :Number of Instances: 20640\n",
            "\n",
            "    :Number of Attributes: 8 numeric, predictive attributes and the target\n",
            "\n",
            "    :Attribute Information:\n",
            "        - MedInc        median income in block group\n",
            "        - HouseAge      median house age in block group\n",
            "        - AveRooms      average number of rooms per household\n",
            "        - AveBedrms     average number of bedrooms per household\n",
            "        - Population    block group population\n",
            "        - AveOccup      average number of household members\n",
            "        - Latitude      block group latitude\n",
            "        - Longitude     block group longitude\n",
            "\n",
            "    :Missing Attribute Values: None\n",
            "\n",
            "This dataset was obtained from the StatLib repository.\n",
            "https://www.dcc.fc.up.pt/~ltorgo/Regression/cal_housing.html\n",
            "\n",
            "The target variable is the median house value for California districts,\n",
            "expressed in hundreds of thousands of dollars ($100,000).\n",
            "\n",
            "This dataset was derived from the 1990 U.S. census, using one row per census\n",
            "block group. A block group is the smallest geographical unit for which the U.S.\n",
            "Census Bureau publishes sample data (a block group typically has a population\n",
            "of 600 to 3,000 people).\n",
            "\n",
            "A household is a group of people residing within a home. Since the average\n",
            "number of rooms and bedrooms in this dataset are provided per household, these\n",
            "columns may take surprisingly large values for block groups with few households\n",
            "and many empty houses, such as vacation resorts.\n",
            "\n",
            "It can be downloaded/loaded using the\n",
            ":func:`sklearn.datasets.fetch_california_housing` function.\n",
            "\n",
            ".. topic:: References\n",
            "\n",
            "    - Pace, R. Kelley and Ronald Barry, Sparse Spatial Autoregressions,\n",
            "      Statistics and Probability Letters, 33 (1997) 291-297\n",
            "\n"
          ]
        }
      ]
    },
    {
      "cell_type": "markdown",
      "source": [
        "`X` に特徴ベクトル、`y` にターゲット（10万ドル単位の住宅価格）を設定します。"
      ],
      "metadata": {
        "id": "8IeMLIVuvPFp"
      }
    },
    {
      "cell_type": "code",
      "source": [
        "X = housing.data\n",
        "y = housing.target"
      ],
      "metadata": {
        "id": "bGZX_FAKutxQ"
      },
      "execution_count": 7,
      "outputs": []
    },
    {
      "cell_type": "markdown",
      "source": [
        "単純な線形回帰"
      ],
      "metadata": {
        "id": "Wv1AtxBFve2-"
      }
    },
    {
      "cell_type": "code",
      "source": [
        "lr1 = LinearRegression()\n",
        "lr1.fit(X, y)\n",
        "print(\"Linear Regression\")\n",
        "for f, w in zip(housing.feature_names, lr1.coef_) :\n",
        "    print(\"{0:7s}: {1:6.2f}\". format(f, w))\n",
        "print(\"coef = {0:4.2f}\".format(sum(lr1.coef_**2)))"
      ],
      "metadata": {
        "colab": {
          "base_uri": "https://localhost:8080/"
        },
        "id": "hcj3mGxdvjPQ",
        "outputId": "144e5495-4c8e-47f6-8eec-ab92bf5c7a3c"
      },
      "execution_count": 8,
      "outputs": [
        {
          "output_type": "stream",
          "name": "stdout",
          "text": [
            "Linear Regression\n",
            "MedInc :   0.44\n",
            "HouseAge:   0.01\n",
            "AveRooms:  -0.11\n",
            "AveBedrms:   0.65\n",
            "Population:  -0.00\n",
            "AveOccup:  -0.00\n",
            "Latitude:  -0.42\n",
            "Longitude:  -0.43\n",
            "coef = 0.98\n"
          ]
        }
      ]
    },
    {
      "cell_type": "markdown",
      "source": [
        "リッジ回帰"
      ],
      "metadata": {
        "id": "W5yZfkvQwEHW"
      }
    },
    {
      "cell_type": "code",
      "source": [
        "lr2 = Ridge(alpha=100.0)\n",
        "lr2.fit(X, y)\n",
        "print(\"\\n Ridge\")\n",
        "for f, w in zip(housing.feature_names, lr2.coef_) :\n",
        "    print(\"{0:7s}: {1:6.2f}\". format(f, w))\n",
        "print(\"coef = {0:4.2f}\".format(sum(lr2.coef_**2)))"
      ],
      "metadata": {
        "colab": {
          "base_uri": "https://localhost:8080/"
        },
        "id": "34pWQ8zuwDO-",
        "outputId": "c6afdbf2-d572-4a8b-c45d-c62636dc0621"
      },
      "execution_count": 17,
      "outputs": [
        {
          "output_type": "stream",
          "name": "stdout",
          "text": [
            "\n",
            " Ridge\n",
            "MedInc :   0.43\n",
            "HouseAge:   0.01\n",
            "AveRooms:  -0.09\n",
            "AveBedrms:   0.56\n",
            "Population:  -0.00\n",
            "AveOccup:  -0.00\n",
            "Latitude:  -0.42\n",
            "Longitude:  -0.43\n",
            "coef = 0.86\n"
          ]
        }
      ]
    },
    {
      "cell_type": "code",
      "source": [
        "lr3 = Lasso(alpha=0.05)\n",
        "lr3.fit(X, y)\n",
        "print(\"\\n Lasso\")\n",
        "for f, w in zip(housing.feature_names, lr3.coef_) :\n",
        "    print(\"{0:7s}: {1:6.2f}\". format(f, w))\n",
        "print(\"coef = {0:4.2f}\".format(sum(lr3.coef_**2)))"
      ],
      "metadata": {
        "colab": {
          "base_uri": "https://localhost:8080/"
        },
        "id": "SkOXWE7yui_A",
        "outputId": "83473d2e-07f8-4d61-8784-43c98c49a83b"
      },
      "execution_count": 22,
      "outputs": [
        {
          "output_type": "stream",
          "name": "stdout",
          "text": [
            "\n",
            " Lasso\n",
            "MedInc :   0.38\n",
            "HouseAge:   0.01\n",
            "AveRooms:   0.00\n",
            "AveBedrms:   0.00\n",
            "Population:   0.00\n",
            "AveOccup:  -0.00\n",
            "Latitude:  -0.28\n",
            "Longitude:  -0.28\n",
            "coef = 0.30\n"
          ]
        }
      ]
    },
    {
      "cell_type": "markdown",
      "source": [
        "## 付録 Boston データを用いた回帰（非推奨）\n",
        "\n",
        "このデータがどのように問題があるかを示す目的のみで用いてください。\n",
        "\n",
        "[データおよび特徴の説明](http://lib.stat.cmu.edu/datasets/boston)\n"
      ],
      "metadata": {
        "id": "MDOfy73OwrL9"
      }
    },
    {
      "cell_type": "code",
      "source": [
        "import pandas as pd\n",
        "import numpy as np\n",
        "\n",
        "data_url = \"http://lib.stat.cmu.edu/datasets/boston\"\n",
        "raw_df = pd.read_csv(data_url, sep=\"\\s+\", skiprows=22, header=None)\n",
        "X = np.hstack([raw_df.values[::2, :], raw_df.values[1::2, :2]])\n",
        "y = raw_df.values[1::2, 2]\n",
        "feature_names = [\"CRIM\", \"ZN\", \"INDUS\", \"CHAS\", \"NOX\", \"RM\", \"AGE\", \"DIS\", \"RAD\", \"TAX\", \"PTRATIO\", \"B\", \"LSTAT\"]"
      ],
      "metadata": {
        "id": "HS8Y6iyUw7H3"
      },
      "execution_count": 27,
      "outputs": []
    },
    {
      "cell_type": "code",
      "execution_count": 28,
      "metadata": {
        "colab": {
          "base_uri": "https://localhost:8080/"
        },
        "id": "-nwQW9YZsmZ6",
        "outputId": "e8d0ec61-544a-4ae1-8fe5-e83050e9a77d"
      },
      "outputs": [
        {
          "output_type": "stream",
          "name": "stdout",
          "text": [
            "Linear Regression\n",
            "CRIM   :  -0.11\n",
            "ZN     :   0.05\n",
            "INDUS  :   0.02\n",
            "CHAS   :   2.69\n",
            "NOX    : -17.77\n",
            "RM     :   3.81\n",
            "AGE    :   0.00\n",
            "DIS    :  -1.48\n",
            "RAD    :   0.31\n",
            "TAX    :  -0.01\n",
            "PTRATIO:  -0.95\n",
            "B      :   0.01\n",
            "LSTAT  :  -0.52\n",
            "coef = 340.85\n",
            "\n",
            " Ridge\n",
            "CRIM   :  -0.10\n",
            "ZN     :   0.05\n",
            "INDUS  :  -0.04\n",
            "CHAS   :   1.95\n",
            "NOX    :  -2.37\n",
            "RM     :   3.70\n",
            "AGE    :  -0.01\n",
            "DIS    :  -1.25\n",
            "RAD    :   0.28\n",
            "TAX    :  -0.01\n",
            "PTRATIO:  -0.80\n",
            "B      :   0.01\n",
            "LSTAT  :  -0.56\n",
            "coef = 25.74\n",
            "\n",
            " Lasso\n",
            "CRIM   :  -0.02\n",
            "ZN     :   0.04\n",
            "INDUS  :  -0.00\n",
            "CHAS   :   0.00\n",
            "NOX    :  -0.00\n",
            "RM     :   0.00\n",
            "AGE    :   0.04\n",
            "DIS    :  -0.07\n",
            "RAD    :   0.17\n",
            "TAX    :  -0.01\n",
            "PTRATIO:  -0.56\n",
            "B      :   0.01\n",
            "LSTAT  :  -0.82\n",
            "coef = 1.02\n"
          ]
        }
      ],
      "source": [
        "lr1 = LinearRegression()\n",
        "lr1.fit(X, y)\n",
        "print(\"Linear Regression\")\n",
        "for f, w in zip(feature_names, lr1.coef_) :\n",
        "    print(\"{0:7s}: {1:6.2f}\". format(f, w))\n",
        "print(\"coef = {0:4.2f}\".format(sum(lr1.coef_**2)))\n",
        "\n",
        "lr2 = Ridge(alpha=10.0)\n",
        "lr2.fit(X, y)\n",
        "print(\"\\n Ridge\")\n",
        "for f, w in zip(feature_names, lr2.coef_) :\n",
        "    print(\"{0:7s}: {1:6.2f}\". format(f, w))\n",
        "print(\"coef = {0:4.2f}\".format(sum(lr2.coef_**2)))\n",
        "\n",
        "lr3 = Lasso(alpha=2.0)\n",
        "lr3.fit(X, y)\n",
        "print(\"\\n Lasso\")\n",
        "for f, w in zip(feature_names, lr3.coef_) :\n",
        "    print(\"{0:7s}: {1:6.2f}\". format(f, w))\n",
        "print(\"coef = {0:4.2f}\".format(sum(lr3.coef_**2)))\n"
      ]
    }
  ]
}