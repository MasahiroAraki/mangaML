{
  "nbformat": 4,
  "nbformat_minor": 0,
  "metadata": {
    "colab": {
      "provenance": [],
      "machine_shape": "hm",
      "gpuType": "A100"
    },
    "kernelspec": {
      "name": "python3",
      "display_name": "Python 3"
    },
    "language_info": {
      "name": "python"
    },
    "accelerator": "GPU"
  },
  "cells": [
    {
      "cell_type": "markdown",
      "source": [
        "<a href=\"https://colab.research.google.com/github/MasahiroAraki/mangaML/blob/master/Python/chap4.ipynb\" target=\"_parent\"><img src=\"https://colab.research.google.com/assets/colab-badge.svg\" alt=\"Open In Colab\"/></a>"
      ],
      "metadata": {
        "id": "yCsRtm3G5vZv"
      }
    },
    {
      "cell_type": "markdown",
      "source": [
        "# 4章 ディープラーニング\n",
        "\n"
      ],
      "metadata": {
        "id": "O-CPjGfysp6o"
      }
    },
    {
      "cell_type": "markdown",
      "source": [
        "<a href=\"https://www.docswell.com/s/MasahiroAraki/KRX839-2023-08-15-094628\">スライド 4章</a>\n"
      ],
      "metadata": {
        "id": "S8FhGNTVtL1W"
      }
    },
    {
      "cell_type": "markdown",
      "source": [
        "## 畳み込みニューラルネットワーク\n",
        "\n",
        "MNISTデータセット（手書き数字）を使って、畳み込みニューラルネットワークの学習と識別を行います。（GPUの使用を推奨）\n"
      ],
      "metadata": {
        "id": "I5F7LoRZtZ0Z"
      }
    },
    {
      "cell_type": "code",
      "source": [
        "import keras\n",
        "from keras.datasets import mnist\n",
        "from keras.utils import to_categorical\n",
        "from keras.models import Sequential\n",
        "from keras.layers import Conv2D, MaxPooling2D, Flatten, Dense\n",
        "\n",
        "(X_train, y_train), (X_test, y_test) = mnist.load_data()\n",
        "\n",
        "img_rows, img_cols = 28, 28\n",
        "\n",
        "X_train = X_train.reshape(X_train.shape[0], img_rows, img_cols, 1)\n",
        "X_test = X_test.reshape(X_test.shape[0], img_rows, img_cols, 1)\n",
        "input_shape = (img_rows, img_cols, 1)\n",
        "\n",
        "X_train = X_train.astype('float32') / 255\n",
        "X_test = X_test.astype('float32') /255\n",
        "Y_train = to_categorical(y_train)\n",
        "Y_test = to_categorical(y_test)\n",
        "\n",
        "n_out = len(Y_train[0])  # 10\n",
        "\n",
        "model = Sequential()\n",
        "model.add(Conv2D(16, kernel_size=(3, 3),\n",
        "                 activation='relu',\n",
        "                 input_shape=input_shape))\n",
        "model.add(MaxPooling2D(pool_size=(2, 2)))\n",
        "model.add(Conv2D(32, (3, 3), activation='relu'))\n",
        "model.add(MaxPooling2D(pool_size=(2, 2)))\n",
        "model.add(Flatten())\n",
        "model.add(Dense(128, activation='relu'))\n",
        "model.add(Dense(n_out, activation='softmax'))\n",
        "model.summary()\n",
        "\n",
        "model.compile(loss = 'categorical_crossentropy',\n",
        "              optimizer = 'rmsprop',\n",
        "              metrics = ['accuracy'])\n",
        "model.fit(X_train, Y_train, epochs=5, batch_size=200)\n",
        "score = model.evaluate(X_test, Y_test, verbose=0)\n",
        "print('Test loss:', score[0])\n",
        "print('Test accuracy:', score[1])"
      ],
      "metadata": {
        "colab": {
          "base_uri": "https://localhost:8080/"
        },
        "id": "02GtV1Qs6gm9",
        "outputId": "e19ab554-efcf-48db-b05c-975e4ba52194"
      },
      "execution_count": 1,
      "outputs": [
        {
          "output_type": "stream",
          "name": "stdout",
          "text": [
            "Downloading data from https://storage.googleapis.com/tensorflow/tf-keras-datasets/mnist.npz\n",
            "11490434/11490434 [==============================] - 2s 0us/step\n",
            "Model: \"sequential\"\n",
            "_________________________________________________________________\n",
            " Layer (type)                Output Shape              Param #   \n",
            "=================================================================\n",
            " conv2d (Conv2D)             (None, 26, 26, 16)        160       \n",
            "                                                                 \n",
            " max_pooling2d (MaxPooling2D  (None, 13, 13, 16)       0         \n",
            " )                                                               \n",
            "                                                                 \n",
            " conv2d_1 (Conv2D)           (None, 11, 11, 32)        4640      \n",
            "                                                                 \n",
            " max_pooling2d_1 (MaxPooling  (None, 5, 5, 32)         0         \n",
            " 2D)                                                             \n",
            "                                                                 \n",
            " flatten (Flatten)           (None, 800)               0         \n",
            "                                                                 \n",
            " dense (Dense)               (None, 128)               102528    \n",
            "                                                                 \n",
            " dense_1 (Dense)             (None, 10)                1290      \n",
            "                                                                 \n",
            "=================================================================\n",
            "Total params: 108,618\n",
            "Trainable params: 108,618\n",
            "Non-trainable params: 0\n",
            "_________________________________________________________________\n",
            "Epoch 1/5\n",
            "300/300 [==============================] - 12s 3ms/step - loss: 0.3096 - accuracy: 0.9081\n",
            "Epoch 2/5\n",
            "300/300 [==============================] - 1s 3ms/step - loss: 0.0795 - accuracy: 0.9753\n",
            "Epoch 3/5\n",
            "300/300 [==============================] - 1s 3ms/step - loss: 0.0534 - accuracy: 0.9833\n",
            "Epoch 4/5\n",
            "300/300 [==============================] - 1s 3ms/step - loss: 0.0392 - accuracy: 0.9878\n",
            "Epoch 5/5\n",
            "300/300 [==============================] - 1s 3ms/step - loss: 0.0323 - accuracy: 0.9900\n",
            "Test loss: 0.035561978816986084\n",
            "Test accuracy: 0.9876999855041504\n"
          ]
        }
      ]
    }
  ]
}